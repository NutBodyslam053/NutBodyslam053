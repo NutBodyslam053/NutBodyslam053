{
 "cells": [
  {
   "attachments": {},
   "cell_type": "markdown",
   "metadata": {},
   "source": [
    "# Python Automation\n",
    "---"
   ]
  },
  {
   "attachments": {},
   "cell_type": "markdown",
   "metadata": {},
   "source": [
    "## Create multiple folders"
   ]
  },
  {
   "cell_type": "code",
   "execution_count": 82,
   "metadata": {},
   "outputs": [
    {
     "name": "stdout",
     "output_type": "stream",
     "text": [
      "Folders created successfully!\n"
     ]
    }
   ],
   "source": [
    "from pathlib import Path\n",
    "import calendar\n",
    "\n",
    "year = 2022\n",
    "month_names = calendar.month_name[1:]\n",
    "weekdays = ['Day1', 'Day2', 'Day3']\n",
    "\n",
    "for i, month in enumerate(month_names):\n",
    "    for day in weekdays:\n",
    "        Path(f'{year}/{i+1}_{month}/{day}').mkdir(parents=True, exist_ok=True)\n",
    "\n",
    "print(\"Folders created successfully!\")"
   ]
  },
  {
   "attachments": {},
   "cell_type": "markdown",
   "metadata": {},
   "source": [
    "## Extract multiple tables from website"
   ]
  },
  {
   "cell_type": "code",
   "execution_count": 86,
   "metadata": {},
   "outputs": [
    {
     "name": "stdout",
     "output_type": "stream",
     "text": [
      "Number of tables: 8\n"
     ]
    },
    {
     "data": {
      "text/html": [
       "<div>\n",
       "<style scoped>\n",
       "    .dataframe tbody tr th:only-of-type {\n",
       "        vertical-align: middle;\n",
       "    }\n",
       "\n",
       "    .dataframe tbody tr th {\n",
       "        vertical-align: top;\n",
       "    }\n",
       "\n",
       "    .dataframe thead th {\n",
       "        text-align: right;\n",
       "    }\n",
       "</style>\n",
       "<table border=\"1\" class=\"dataframe\">\n",
       "  <thead>\n",
       "    <tr style=\"text-align: right;\">\n",
       "      <th></th>\n",
       "      <th>Film</th>\n",
       "      <th>U.S. release date</th>\n",
       "      <th>Directed by</th>\n",
       "      <th>Screenplay by</th>\n",
       "      <th>Story by</th>\n",
       "      <th>Produced by</th>\n",
       "      <th>Status</th>\n",
       "    </tr>\n",
       "  </thead>\n",
       "  <tbody>\n",
       "    <tr>\n",
       "      <th>0</th>\n",
       "      <td>Saw</td>\n",
       "      <td>October 29, 2004</td>\n",
       "      <td>James Wan</td>\n",
       "      <td>Leigh Whannell</td>\n",
       "      <td>James Wan &amp; Leigh Whannell</td>\n",
       "      <td>Gregg Hoffman, Oren Koules and Mark Burg</td>\n",
       "      <td>Released</td>\n",
       "    </tr>\n",
       "    <tr>\n",
       "      <th>1</th>\n",
       "      <td>Saw II</td>\n",
       "      <td>October 28, 2005</td>\n",
       "      <td>Darren Lynn Bousman</td>\n",
       "      <td>Leigh Whannell and Darren Lynn Bousman</td>\n",
       "      <td>Leigh Whannell and Darren Lynn Bousman</td>\n",
       "      <td>Gregg Hoffman, Oren Koules and Mark Burg</td>\n",
       "      <td>Released</td>\n",
       "    </tr>\n",
       "    <tr>\n",
       "      <th>2</th>\n",
       "      <td>Saw III</td>\n",
       "      <td>October 27, 2006</td>\n",
       "      <td>Darren Lynn Bousman</td>\n",
       "      <td>Leigh Whannell</td>\n",
       "      <td>James Wan &amp; Leigh Whannell</td>\n",
       "      <td>Gregg Hoffman, Oren Koules and Mark Burg</td>\n",
       "      <td>Released</td>\n",
       "    </tr>\n",
       "    <tr>\n",
       "      <th>3</th>\n",
       "      <td>Saw IV</td>\n",
       "      <td>October 26, 2007</td>\n",
       "      <td>Darren Lynn Bousman</td>\n",
       "      <td>Patrick Melton &amp; Marcus Dunstan</td>\n",
       "      <td>Patrick Melton &amp; Marcus Dunstan and Thomas Fenton</td>\n",
       "      <td>Gregg Hoffman, Oren Koules and Mark Burg</td>\n",
       "      <td>Released</td>\n",
       "    </tr>\n",
       "    <tr>\n",
       "      <th>4</th>\n",
       "      <td>Saw V</td>\n",
       "      <td>October 24, 2008</td>\n",
       "      <td>David Hackl</td>\n",
       "      <td>Patrick Melton &amp; Marcus Dunstan</td>\n",
       "      <td>Patrick Melton &amp; Marcus Dunstan</td>\n",
       "      <td>Gregg Hoffman, Oren Koules and Mark Burg</td>\n",
       "      <td>Released</td>\n",
       "    </tr>\n",
       "    <tr>\n",
       "      <th>5</th>\n",
       "      <td>Saw VI</td>\n",
       "      <td>October 23, 2009</td>\n",
       "      <td>Kevin Greutert</td>\n",
       "      <td>Patrick Melton &amp; Marcus Dunstan</td>\n",
       "      <td>Patrick Melton &amp; Marcus Dunstan</td>\n",
       "      <td>Gregg Hoffman, Oren Koules and Mark Burg</td>\n",
       "      <td>Released</td>\n",
       "    </tr>\n",
       "    <tr>\n",
       "      <th>6</th>\n",
       "      <td>Saw 3D</td>\n",
       "      <td>October 29, 2010</td>\n",
       "      <td>Kevin Greutert</td>\n",
       "      <td>Patrick Melton &amp; Marcus Dunstan</td>\n",
       "      <td>Patrick Melton &amp; Marcus Dunstan</td>\n",
       "      <td>Gregg Hoffman, Oren Koules and Mark Burg</td>\n",
       "      <td>Released</td>\n",
       "    </tr>\n",
       "    <tr>\n",
       "      <th>7</th>\n",
       "      <td>Jigsaw</td>\n",
       "      <td>October 27, 2017</td>\n",
       "      <td>The Spierig Brothers</td>\n",
       "      <td>Josh Stolberg &amp; Peter Goldfinger</td>\n",
       "      <td>Josh Stolberg &amp; Peter Goldfinger</td>\n",
       "      <td>Gregg Hoffman, Oren Koules and Mark Burg</td>\n",
       "      <td>Released</td>\n",
       "    </tr>\n",
       "    <tr>\n",
       "      <th>8</th>\n",
       "      <td>Spiral</td>\n",
       "      <td>May 14, 2021</td>\n",
       "      <td>Darren Lynn Bousman</td>\n",
       "      <td>Josh Stolberg &amp; Peter Goldfinger</td>\n",
       "      <td>Josh Stolberg &amp; Peter Goldfinger</td>\n",
       "      <td>Oren Koules and Mark Burg</td>\n",
       "      <td>Released</td>\n",
       "    </tr>\n",
       "    <tr>\n",
       "      <th>9</th>\n",
       "      <td>Saw X</td>\n",
       "      <td>October 27, 2023</td>\n",
       "      <td>Kevin Greutert</td>\n",
       "      <td>Josh Stolberg &amp; Peter Goldfinger</td>\n",
       "      <td>Josh Stolberg &amp; Peter Goldfinger</td>\n",
       "      <td>Oren Koules and Mark Burg</td>\n",
       "      <td>Post-production</td>\n",
       "    </tr>\n",
       "  </tbody>\n",
       "</table>\n",
       "</div>"
      ],
      "text/plain": [
       "      Film U.S. release date           Directed by   \n",
       "0      Saw  October 29, 2004             James Wan  \\\n",
       "1   Saw II  October 28, 2005   Darren Lynn Bousman   \n",
       "2  Saw III  October 27, 2006   Darren Lynn Bousman   \n",
       "3   Saw IV  October 26, 2007   Darren Lynn Bousman   \n",
       "4    Saw V  October 24, 2008           David Hackl   \n",
       "5   Saw VI  October 23, 2009        Kevin Greutert   \n",
       "6   Saw 3D  October 29, 2010        Kevin Greutert   \n",
       "7   Jigsaw  October 27, 2017  The Spierig Brothers   \n",
       "8   Spiral      May 14, 2021   Darren Lynn Bousman   \n",
       "9    Saw X  October 27, 2023        Kevin Greutert   \n",
       "\n",
       "                            Screenplay by   \n",
       "0                          Leigh Whannell  \\\n",
       "1  Leigh Whannell and Darren Lynn Bousman   \n",
       "2                          Leigh Whannell   \n",
       "3         Patrick Melton & Marcus Dunstan   \n",
       "4         Patrick Melton & Marcus Dunstan   \n",
       "5         Patrick Melton & Marcus Dunstan   \n",
       "6         Patrick Melton & Marcus Dunstan   \n",
       "7        Josh Stolberg & Peter Goldfinger   \n",
       "8        Josh Stolberg & Peter Goldfinger   \n",
       "9        Josh Stolberg & Peter Goldfinger   \n",
       "\n",
       "                                            Story by   \n",
       "0                         James Wan & Leigh Whannell  \\\n",
       "1             Leigh Whannell and Darren Lynn Bousman   \n",
       "2                         James Wan & Leigh Whannell   \n",
       "3  Patrick Melton & Marcus Dunstan and Thomas Fenton   \n",
       "4                    Patrick Melton & Marcus Dunstan   \n",
       "5                    Patrick Melton & Marcus Dunstan   \n",
       "6                    Patrick Melton & Marcus Dunstan   \n",
       "7                   Josh Stolberg & Peter Goldfinger   \n",
       "8                   Josh Stolberg & Peter Goldfinger   \n",
       "9                   Josh Stolberg & Peter Goldfinger   \n",
       "\n",
       "                                Produced by           Status  \n",
       "0  Gregg Hoffman, Oren Koules and Mark Burg         Released  \n",
       "1  Gregg Hoffman, Oren Koules and Mark Burg         Released  \n",
       "2  Gregg Hoffman, Oren Koules and Mark Burg         Released  \n",
       "3  Gregg Hoffman, Oren Koules and Mark Burg         Released  \n",
       "4  Gregg Hoffman, Oren Koules and Mark Burg         Released  \n",
       "5  Gregg Hoffman, Oren Koules and Mark Burg         Released  \n",
       "6  Gregg Hoffman, Oren Koules and Mark Burg         Released  \n",
       "7  Gregg Hoffman, Oren Koules and Mark Burg         Released  \n",
       "8                 Oren Koules and Mark Burg         Released  \n",
       "9                 Oren Koules and Mark Burg  Post-production  "
      ]
     },
     "metadata": {},
     "output_type": "display_data"
    }
   ],
   "source": [
    "import pandas as pd\n",
    "\n",
    "saws = pd.read_html(\"https://en.wikipedia.org/wiki/Saw_(franchise)\")\n",
    "print(\"Number of tables:\", len(saws))\n",
    "display(saws[1])"
   ]
  },
  {
   "attachments": {},
   "cell_type": "markdown",
   "metadata": {},
   "source": [
    "## Generate multiple word documenets"
   ]
  },
  {
   "attachments": {},
   "cell_type": "markdown",
   "metadata": {},
   "source": [
    "### Single Word Document"
   ]
  },
  {
   "cell_type": "code",
   "execution_count": 83,
   "metadata": {},
   "outputs": [
    {
     "name": "stdout",
     "output_type": "stream",
     "text": [
      "File saved successfully!\n"
     ]
    }
   ],
   "source": [
    "from docxtpl import DocxTemplate\n",
    "from datetime import datetime\n",
    "import pandas as pd\n",
    "\n",
    "doc = DocxTemplate(\"files/template-my-info.docx\")\n",
    "\n",
    "my_name = \"Witchakorn Wanasanwongkot\"\n",
    "my_phone = \"(123) 456-789\"\n",
    "my_email = \"witchakorn.w@gmail.com\"\n",
    "my_address = \"123 Main Street, NY\"\n",
    "today_date = datetime.today().strftime(\"%b %d, %Y\")\n",
    "\n",
    "my_context = {\n",
    "    'my_name': my_name,\n",
    "    'my_phone': my_phone,\n",
    "    'my_email': my_email,\n",
    "    'my_address': my_address,\n",
    "    'today_date': today_date,\n",
    "}\n",
    "\n",
    "doc.render(my_context)\n",
    "doc.save(\"outputs/generated-my-info.docx\")\n",
    "print(\"File saved successfully!\")"
   ]
  },
  {
   "attachments": {},
   "cell_type": "markdown",
   "metadata": {},
   "source": [
    "### Multiple Word Documents"
   ]
  },
  {
   "cell_type": "code",
   "execution_count": 84,
   "metadata": {},
   "outputs": [
    {
     "name": "stdout",
     "output_type": "stream",
     "text": [
      "Files saved successfully!\n"
     ]
    }
   ],
   "source": [
    "from docxtpl import DocxTemplate\n",
    "from datetime import datetime\n",
    "import pandas as pd\n",
    "\n",
    "doc = DocxTemplate(\"files/template-manager-info.docx\")\n",
    "\n",
    "my_name = \"Witchakorn Wanasanwongkot\"\n",
    "my_phone = \"(123) 456-789\"\n",
    "my_email = \"witchakorn.w@gmail.com\"\n",
    "my_address = \"123 Main Street, NY\"\n",
    "today_date = datetime.today().strftime(\"%b %d, %Y\")\n",
    "\n",
    "my_context = {\n",
    "    'my_name': my_name,\n",
    "    'my_phone': my_phone,\n",
    "    'my_email': my_email,\n",
    "    'my_address': my_address,\n",
    "    'today_date': today_date,\n",
    "}\n",
    "\n",
    "df = pd.read_csv(\"files/mock_data.csv\")\n",
    "\n",
    "for index, row in df.iterrows():\n",
    "    context = {\n",
    "        'hiring_manager_name': row['name'],\n",
    "        'address': row['address'],\n",
    "        'phone_number': row['phone_number'],\n",
    "        'email': row['email'],\n",
    "        'job_position': row['job'],\n",
    "        'company_name': row['company'],\n",
    "    }\n",
    "    context.update(my_context)\n",
    "    doc.render(context)\n",
    "    doc.save(f\"outputs/generated-doc-{index+1}.docx\")\n",
    "\n",
    "print(\"Files saved successfully!\")"
   ]
  },
  {
   "attachments": {},
   "cell_type": "markdown",
   "metadata": {},
   "source": [
    "## Send emails\n",
    "- go to Google Account -> Security: https://myaccount.google.com/security?hl=en\n",
    "\n",
    "- tab '2-Step Verification' to verify identity\n",
    "- search the keyword 'app passwords' in the search box of Google Account to generate a 16-digits app password"
   ]
  },
  {
   "cell_type": "code",
   "execution_count": 85,
   "metadata": {},
   "outputs": [
    {
     "name": "stdout",
     "output_type": "stream",
     "text": [
      "Email sent successfully!\n"
     ]
    }
   ],
   "source": [
    "import os\n",
    "from dotenv import dotenv_values\n",
    "from email.message import EmailMessage\n",
    "import ssl\n",
    "import smtplib\n",
    "\n",
    "config = dotenv_values(\".env\")\n",
    "\n",
    "email_sender = 'witchakorn.datatalksclub@gmail.com'\n",
    "email_password = config.get(\"GOOGLE_ACCOUNT_APP_PASSWORD\")\n",
    "email_receiver = 'seklosoann@gmail.com'\n",
    "\n",
    "subject = \"Check out my resume on Github profile\"\n",
    "body = \"\"\"\n",
    "I've just updated my project on Github: https://github.com/NutBodyslam053\n",
    "\"\"\"\n",
    "\n",
    "em = EmailMessage()\n",
    "em['From'] = email_sender\n",
    "em['To'] = email_receiver\n",
    "em['Subject'] = subject\n",
    "em.set_content(body)\n",
    "\n",
    "context = ssl.create_default_context()\n",
    "\n",
    "with smtplib.SMTP_SSL(host='smtp.gmail.com', port=465, context=context) as smtp:\n",
    "    smtp.login(user=email_sender, password=email_password)\n",
    "    smtp.sendmail(from_addr=email_sender, to_addrs=email_receiver, msg=em.as_string())\n",
    "\n",
    "print(\"Email sent successfully!\")"
   ]
  }
 ],
 "metadata": {
  "kernelspec": {
   "display_name": "DataRockie",
   "language": "python",
   "name": "python3"
  },
  "language_info": {
   "codemirror_mode": {
    "name": "ipython",
    "version": 3
   },
   "file_extension": ".py",
   "mimetype": "text/x-python",
   "name": "python",
   "nbconvert_exporter": "python",
   "pygments_lexer": "ipython3",
   "version": "3.10.11"
  },
  "orig_nbformat": 4
 },
 "nbformat": 4,
 "nbformat_minor": 2
}
