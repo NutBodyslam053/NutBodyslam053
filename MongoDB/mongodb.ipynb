{
 "cells": [
  {
   "cell_type": "markdown",
   "metadata": {},
   "source": [
    "# MongoDB\n",
    "**Instructions:**\n",
    "1. Open MongoDB Compass.\n",
    "2. Create the 'movies' collection in the 'movie' database. \n",
    "3. Import the 'movie.json' file into the MongoDB database."
   ]
  },
  {
   "cell_type": "code",
   "execution_count": 36,
   "metadata": {},
   "outputs": [],
   "source": [
    "from pymongo import MongoClient\n",
    "import pandas as pd\n",
    "\n",
    "client = MongoClient('mongodb://localhost:27017/')\n",
    "# client = MongoClient(\"localhost\", 27017)"
   ]
  },
  {
   "cell_type": "markdown",
   "metadata": {},
   "source": [
    "#### Show database names "
   ]
  },
  {
   "cell_type": "code",
   "execution_count": 24,
   "metadata": {},
   "outputs": [
    {
     "name": "stdout",
     "output_type": "stream",
     "text": [
      "['admin', 'company', 'config', 'foodEmp', 'local', 'movie', 'production']\n"
     ]
    }
   ],
   "source": [
    "dbs = client.list_database_names()\n",
    "print(dbs)"
   ]
  },
  {
   "cell_type": "markdown",
   "metadata": {},
   "source": [
    "#### Show collection names"
   ]
  },
  {
   "cell_type": "code",
   "execution_count": 34,
   "metadata": {},
   "outputs": [
    {
     "name": "stdout",
     "output_type": "stream",
     "text": [
      "['movies']\n"
     ]
    }
   ],
   "source": [
    "movie_db = client[\"movie\"]\n",
    "collections = movie_db.list_collection_names()\n",
    "print(collections)"
   ]
  },
  {
   "cell_type": "markdown",
   "metadata": {},
   "source": [
    "## Select"
   ]
  },
  {
   "cell_type": "code",
   "execution_count": 11,
   "metadata": {},
   "outputs": [
    {
     "data": {
      "text/html": [
       "<div>\n",
       "<style scoped>\n",
       "    .dataframe tbody tr th:only-of-type {\n",
       "        vertical-align: middle;\n",
       "    }\n",
       "\n",
       "    .dataframe tbody tr th {\n",
       "        vertical-align: top;\n",
       "    }\n",
       "\n",
       "    .dataframe thead th {\n",
       "        text-align: right;\n",
       "    }\n",
       "</style>\n",
       "<table border=\"1\" class=\"dataframe\">\n",
       "  <thead>\n",
       "    <tr style=\"text-align: right;\">\n",
       "      <th></th>\n",
       "      <th>imdb_title_id</th>\n",
       "      <th>title</th>\n",
       "      <th>year</th>\n",
       "      <th>genres</th>\n",
       "      <th>duration</th>\n",
       "      <th>names</th>\n",
       "      <th>avg_vote</th>\n",
       "    </tr>\n",
       "  </thead>\n",
       "  <tbody>\n",
       "    <tr>\n",
       "      <th>0</th>\n",
       "      <td>tt4154756</td>\n",
       "      <td>Avengers: Infinity War</td>\n",
       "      <td>2018</td>\n",
       "      <td>[Action, Adventure, Sci-Fi]</td>\n",
       "      <td>149</td>\n",
       "      <td>[{'imdb_name_id': 'nm0000375', 'category': 'ac...</td>\n",
       "      <td>8.4</td>\n",
       "    </tr>\n",
       "    <tr>\n",
       "      <th>1</th>\n",
       "      <td>tt4154796</td>\n",
       "      <td>Avengers: Endgame</td>\n",
       "      <td>2019</td>\n",
       "      <td>[Action, Adventure, Drama]</td>\n",
       "      <td>181</td>\n",
       "      <td>[{'imdb_name_id': 'nm0000375', 'category': 'ac...</td>\n",
       "      <td>8.4</td>\n",
       "    </tr>\n",
       "    <tr>\n",
       "      <th>2</th>\n",
       "      <td>tt0848228</td>\n",
       "      <td>The Avengers</td>\n",
       "      <td>2012</td>\n",
       "      <td>[Action, Adventure, Sci-Fi]</td>\n",
       "      <td>143</td>\n",
       "      <td>[{'imdb_name_id': 'nm0000375', 'category': 'ac...</td>\n",
       "      <td>8.0</td>\n",
       "    </tr>\n",
       "    <tr>\n",
       "      <th>3</th>\n",
       "      <td>tt2395427</td>\n",
       "      <td>Avengers: Age of Ultron</td>\n",
       "      <td>2015</td>\n",
       "      <td>[Action, Adventure, Sci-Fi]</td>\n",
       "      <td>141</td>\n",
       "      <td>[{'imdb_name_id': 'nm0000375', 'category': 'ac...</td>\n",
       "      <td>7.3</td>\n",
       "    </tr>\n",
       "  </tbody>\n",
       "</table>\n",
       "</div>"
      ],
      "text/plain": [
       "  imdb_title_id                    title  year                       genres  \\\n",
       "0     tt4154756   Avengers: Infinity War  2018  [Action, Adventure, Sci-Fi]   \n",
       "1     tt4154796        Avengers: Endgame  2019   [Action, Adventure, Drama]   \n",
       "2     tt0848228             The Avengers  2012  [Action, Adventure, Sci-Fi]   \n",
       "3     tt2395427  Avengers: Age of Ultron  2015  [Action, Adventure, Sci-Fi]   \n",
       "\n",
       "   duration                                              names  avg_vote  \n",
       "0       149  [{'imdb_name_id': 'nm0000375', 'category': 'ac...       8.4  \n",
       "1       181  [{'imdb_name_id': 'nm0000375', 'category': 'ac...       8.4  \n",
       "2       143  [{'imdb_name_id': 'nm0000375', 'category': 'ac...       8.0  \n",
       "3       141  [{'imdb_name_id': 'nm0000375', 'category': 'ac...       7.3  "
      ]
     },
     "execution_count": 11,
     "metadata": {},
     "output_type": "execute_result"
    }
   ],
   "source": [
    "filter={\n",
    "    'title': {\n",
    "        '$regex': 'avenger',\n",
    "        '$options': 'i'\n",
    "    },\n",
    "    'names.imdb_name_id': 'nm0000375', # Robert Downey Jr.'s name_id\n",
    "    'year': {\n",
    "        '$gt': 2000\n",
    "    }\n",
    "}\n",
    "project={\n",
    "    '_id': 0\n",
    "}\n",
    "sort=list({\n",
    "    'avg_vote': -1\n",
    "}.items())\n",
    "\n",
    "result = client['movie']['movies'].find(\n",
    "  filter=filter,\n",
    "  projection=project,\n",
    "  sort=sort\n",
    ")\n",
    "\n",
    "df = pd.DataFrame(list(result))\n",
    "df"
   ]
  },
  {
   "cell_type": "markdown",
   "metadata": {},
   "source": [
    "## Insert"
   ]
  },
  {
   "cell_type": "markdown",
   "metadata": {},
   "source": [
    "**Important:** In MongoDB, a database is not created until it gets content!"
   ]
  },
  {
   "cell_type": "code",
   "execution_count": 29,
   "metadata": {},
   "outputs": [
    {
     "data": {
      "text/plain": [
       "<pymongo.results.InsertOneResult at 0x19a33ac8040>"
      ]
     },
     "execution_count": 29,
     "metadata": {},
     "output_type": "execute_result"
    }
   ],
   "source": [
    "test_db = client.test\n",
    "collection = test_db.test01\n",
    "\n",
    "post = {\"_id\": 0, \"name\": \"Tim\", \"score\": 5}\n",
    "collection.insert_one(post)"
   ]
  },
  {
   "cell_type": "code",
   "execution_count": 39,
   "metadata": {},
   "outputs": [
    {
     "data": {
      "text/plain": [
       "<pymongo.results.InsertManyResult at 0x19a33ad6b80>"
      ]
     },
     "execution_count": 39,
     "metadata": {},
     "output_type": "execute_result"
    }
   ],
   "source": [
    "post1 = {\"_id\": 5, \"name\": \"Joe\"}\n",
    "post2 = {\"_id\": 6, \"name\": \"Bill\"}\n",
    "collection.insert_many([post1, post2])"
   ]
  },
  {
   "cell_type": "markdown",
   "metadata": {},
   "source": [
    "## Update"
   ]
  },
  {
   "cell_type": "code",
   "execution_count": 40,
   "metadata": {},
   "outputs": [],
   "source": [
    "results = collection.update_one({\"_id\": 5}, {\"$set\": {\"name\": \"Tim\"}})"
   ]
  },
  {
   "cell_type": "markdown",
   "metadata": {},
   "source": [
    "## Delete"
   ]
  },
  {
   "cell_type": "code",
   "execution_count": 41,
   "metadata": {},
   "outputs": [],
   "source": [
    "results = collection.delete_one({\"_id\": 0})\n",
    "results = collection.delete_many({})"
   ]
  }
 ],
 "metadata": {
  "kernelspec": {
   "display_name": "DataTalksClub",
   "language": "python",
   "name": "python3"
  },
  "language_info": {
   "codemirror_mode": {
    "name": "ipython",
    "version": 3
   },
   "file_extension": ".py",
   "mimetype": "text/x-python",
   "name": "python",
   "nbconvert_exporter": "python",
   "pygments_lexer": "ipython3",
   "version": "3.9.12"
  },
  "orig_nbformat": 4
 },
 "nbformat": 4,
 "nbformat_minor": 2
}
