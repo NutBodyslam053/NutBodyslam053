{
 "cells": [
  {
   "attachments": {},
   "cell_type": "markdown",
   "metadata": {},
   "source": [
    "# Command-line interface (CLI)"
   ]
  },
  {
   "attachments": {},
   "cell_type": "markdown",
   "metadata": {},
   "source": [
    "## Bash"
   ]
  },
  {
   "cell_type": "code",
   "execution_count": null,
   "metadata": {
    "vscode": {
     "languageId": "shellscript"
    }
   },
   "outputs": [],
   "source": []
  },
  {
   "attachments": {},
   "cell_type": "markdown",
   "metadata": {},
   "source": [
    "## PowerShell"
   ]
  },
  {
   "cell_type": "code",
   "execution_count": null,
   "metadata": {
    "vscode": {
     "languageId": "powershell"
    }
   },
   "outputs": [],
   "source": [
    "# rename files\n",
    "Rename-Item <old-filename> <new-filename>\n",
    "\n",
    "# delete files\n",
    "Remove-Item <filename>\n",
    "\n",
    "# print filenames with specific conditions\n",
    "Get-ChildItem | Where-Object { $_.Name -match \" \" } | Select-Object -ExpandProperty Name\n",
    "Get-ChildItem | Where-Object { $_.Name.Contains(\" \") } | Select-Object -ExpandProperty Name\n",
    "Get-ChildItem | Where-Object { $_.Name -like '* *' } | Select-Object Name\n",
    "\n",
    "# rename files with spaces in the filename to files with underscores\n",
    "Get-ChildItem <filename> | Rename-Item -NewName {$_.Name.Replace(\" \", \"_\")}\n",
    "Get-ChildItem | Where-Object { $_.Name -match \" \" } | Rename-Item -NewName { $_.Name -replace \" \", \"_\" }\n",
    "\n",
    "# rename filenames to lowercase/uppercase\n",
    "Get-ChildItem <filename> | Rename-Item -NewName {$_.Name.ToLower()}\n",
    "Get-ChildItem <filename> | Rename-Item -NewName {$_.Name.ToUpper()}\n",
    "\n",
    "# rename files with no extension to files with specific extension\n",
    "Get-ChildItem -File | Where-Object { $_.Extension -eq '' } | ForEach-Object { Rename-Item $_.FullName ($_.FullName + \".txt\") }\n",
    "\n",
    "# rename all files in a directory\n",
    "$files = Get-ChildItem | Where-Object {$_.Name -like '*(2)*'}\n",
    "$counter = 0\n",
    "foreach ($file in $files) {\n",
    "    $extension = $file.Extension\n",
    "    $newFilename = \"dog_$counter$extension\"\n",
    "    $newPath = Join-Path -Path $PWD -ChildPath $newFilename\n",
    "    Write-Host \"Renamed $file => $newFilename\"\n",
    "    Rename-Item -Path $file.FullName -NewName $newPath\n",
    "    $counter++\n",
    "}"
   ]
  },
  {
   "cell_type": "markdown",
   "metadata": {},
   "source": [
    "# Vim"
   ]
  },
  {
   "cell_type": "markdown",
   "metadata": {},
   "source": [
    "https://vim.rtorr.com/"
   ]
  },
  {
   "cell_type": "markdown",
   "metadata": {},
   "source": [
    "# Convert Any Python File (.PY) to .EXE"
   ]
  },
  {
   "cell_type": "code",
   "execution_count": null,
   "metadata": {
    "vscode": {
     "languageId": "shellscript"
    }
   },
   "outputs": [],
   "source": [
    "pip install auto-py-to-exe\n",
    "auto-py-to-exe"
   ]
  },
  {
   "cell_type": "code",
   "execution_count": null,
   "metadata": {
    "vscode": {
     "languageId": "shellscript"
    }
   },
   "outputs": [],
   "source": [
    "pip install pyinstaller\n",
    "pyinstaller --onefile <python_script_file.py>"
   ]
  }
 ],
 "metadata": {
  "kernelspec": {
   "display_name": "DataTalksClub",
   "language": "python",
   "name": "python3"
  },
  "language_info": {
   "codemirror_mode": {
    "name": "ipython",
    "version": 3
   },
   "file_extension": ".py",
   "mimetype": "text/x-python",
   "name": "python",
   "nbconvert_exporter": "python",
   "pygments_lexer": "ipython3",
   "version": "3.9.16"
  },
  "orig_nbformat": 4
 },
 "nbformat": 4,
 "nbformat_minor": 2
}
